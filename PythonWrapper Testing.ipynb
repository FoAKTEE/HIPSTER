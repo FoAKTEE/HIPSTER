{
 "cells": [
  {
   "cell_type": "code",
   "execution_count": 6,
   "metadata": {},
   "outputs": [
    {
     "name": "stdout",
     "output_type": "stream",
     "text": [
      "Populating the interactive namespace from numpy and matplotlib\n"
     ]
    }
   ],
   "source": [
    "% pylab inline"
   ]
  },
  {
   "cell_type": "markdown",
   "metadata": {},
   "source": [
    "# Compute correction function"
   ]
  },
  {
   "cell_type": "markdown",
   "metadata": {},
   "source": [
    "### First estimate pair counts\n"
   ]
  },
  {
   "cell_type": "code",
   "execution_count": null,
   "metadata": {},
   "outputs": [],
   "source": []
  },
  {
   "cell_type": "code",
   "execution_count": 68,
   "metadata": {},
   "outputs": [],
   "source": [
    "n=400\n",
    "m=100\n",
    "RR_file = '/mnt/alan1/oliverphilcox/PowerSpectra/RR_counts_n%d_m%d_11.txt'%(n,m)\n",
    "RR_flat = np.loadtxt(RR_file)#*np.sum(gal_w)**2.# must remove normalization factor\n",
    "RR_true = RR_flat.reshape((n,m))[:,:]\n",
    "\n",
    "## Define bins\n",
    "mu_cen = np.arange(1/(2*m),1+1/(2*m),1/m)\n",
    "r_bins = np.loadtxt('/mnt/store1/oliverphilcox/PowerSpectra/radial_binning_fine.csv')\n",
    "r_cen = mean(r_bins,axis=1)\n",
    "delta_r = r_cen[-1]-r_cen[-2]\n",
    "mu_cen = np.arange(1/(2*m),1.+1/(2*m),1/m)\n",
    "delta_mu = mu_cen[-1]-mu_cen[-2]\n",
    "assert n==len(r_cen)\n",
    "assert m==len(mu_cen)"
   ]
  },
  {
   "cell_type": "code",
   "execution_count": 77,
   "metadata": {},
   "outputs": [],
   "source": [
    "r_max = 400\n",
    "nrbins=100\n",
    "r_bins_all = np.linspace(0,r_max,nrbins+1)\n",
    "r_bins_low = r_bins_all[:-1]\n",
    "r_bins_hi = r_bins_all[1:]\n",
    "binfile = np.vstack([r_bins_low,r_bins_hi])\n"
   ]
  },
  {
   "cell_type": "code",
   "execution_count": 79,
   "metadata": {},
   "outputs": [],
   "source": [
    "from Corrfunc.theory import DDsmu"
   ]
  },
  {
   "cell_type": "code",
   "execution_count": 70,
   "metadata": {},
   "outputs": [],
   "source": [
    "def RR_model(r_cen,mu):\n",
    "    return norm*((r_cen+delta_r/2.)**3.-(r_cen-delta_r/2.)**3.)*delta_mu/3.\n",
    "    #return norm*r_cen**2.*delta_r*delta_mu\n",
    "    \n",
    "mumu,rr = np.meshgrid(mu_cen,r_cen)\n",
    "Phi_true = RR_model(rr,mumu)/RR_true\n",
    "\n",
    "inv_phi = RR_true/RR_model(rr,mumu)\n",
    "\n",
    "l_max = 8\n",
    "from scipy.special import legendre\n",
    "inv_Phi_multipoles = np.zeros([l_max//2+1,len(inv_phi)])\n",
    "for i in range(len(RR_true)):\n",
    "    for l_i,ell in enumerate(np.arange(0,l_max+2,2)):\n",
    "        inv_Phi_multipoles[l_i,i]=(2.*ell+1.)*delta_mu*np.sum(legendre(ell)(mu_cen)*inv_phi[i,:])\n",
    "        \n",
    "        \n",
    "def inv_phi_ell_model(r,*par):\n",
    "    return par[0]+par[1]*r+par[2]*r**2.#+par[3]*r**3.#+par[4]*r**4.\n",
    "from scipy.optimize import curve_fit\n",
    "max_l = 4\n",
    "all_ell = np.arange(0,max_l+2,2)\n",
    "coeff = np.asarray([curve_fit(inv_phi_ell_model,r_cen[1:],inv_Phi_multipoles[ell//2][1:],\n",
    "                              p0=[0 for _ in range(3)])[0] for ell in all_ell])\n",
    "\n",
    "np.savetxt(\"/mnt/store1/oliverphilcox/PowerSpectra/InvPhiCoeff_DR12.txt\",coeff,delimiter=\"\\t\")"
   ]
  },
  {
   "cell_type": "code",
   "execution_count": 71,
   "metadata": {},
   "outputs": [
    {
     "data": {
      "text/plain": [
       "array([[ 1.19291832e+01, -1.24744518e-02, -2.23309629e-06],\n",
       "       [ 1.73524678e-01, -8.35790320e-03, -5.00198798e-06],\n",
       "       [-8.93255294e-04,  2.61453168e-03, -4.21120663e-07]])"
      ]
     },
     "execution_count": 71,
     "metadata": {},
     "output_type": "execute_result"
    }
   ],
   "source": [
    "coeff"
   ]
  },
  {
   "cell_type": "code",
   "execution_count": null,
   "metadata": {},
   "outputs": [],
   "source": []
  },
  {
   "cell_type": "markdown",
   "metadata": {},
   "source": [
    "# Reconstruct Power Spectrum"
   ]
  },
  {
   "cell_type": "code",
   "execution_count": 60,
   "metadata": {},
   "outputs": [],
   "source": [
    "import numpy as np\n",
    "import sys\n",
    "\n",
    "DD_input = '/mnt/alan1/oliverphilcox/PowerQPM_New/R0_100/DD_mock_0001_power_counts_n19_m3_full.txt'\n",
    "DR_input = '/mnt/alan1/oliverphilcox/PowerQPM_New/R0_100/DR_mock_0001_power_counts_n19_m3_full.txt'\n",
    "RR_input = '/mnt/alan1/oliverphilcox/PowerQPM_New/R0_100/RR_0_power_counts_n19_m3_full.txt'\n",
    "gal_file = '/mnt/alan1/oliverphilcox/QPM_proc/qpm_galaxy_0001.xyzw'\n",
    "N_gal = 642051\n",
    "N_rand_RR = 32292068\n",
    "N_rand_DR = 642051\n",
    "periodic = False\n",
    "outfile = './test_power.txt'"
   ]
  },
  {
   "cell_type": "code",
   "execution_count": 62,
   "metadata": {},
   "outputs": [
    {
     "name": "stdout",
     "output_type": "stream",
     "text": [
      "Computing normalization factor\n",
      "Norm = 4.25\n",
      "Saved power spectrum estimate to ./test_power.txt\n"
     ]
    }
   ],
   "source": [
    "# Load pair counts\n",
    "DD = np.loadtxt(DD_input)\n",
    "DR = np.loadtxt(DR_input)\n",
    "RR = np.loadtxt(RR_input)\n",
    "DR_pairs = N_gal*N_rand_DR\n",
    "DD_pairs = N_gal*(N_gal-1)\n",
    "RR_pairs = N_rand_RR*(N_rand_RR-1.)\n",
    "\n",
    "# Compute normalization factor\n",
    "print('Computing normalization factor')\n",
    "if periodic:\n",
    "    norm = 0.\n",
    "    gal_x,gal_y,gal_z,gal_w = np.loadtxt(gal_file).T\n",
    "    x_range = max(gal_x)-min(gal_x)\n",
    "    y_range = max(gal_y)-min(gal_y)\n",
    "    z_range = max(gal_z)-min(gal_z)\n",
    "    \n",
    "    if np.abs(x_range/y_range-1.)>0.01 or np.abs(x_range/z_range-1.)>0.01:\n",
    "        print('Is this data periodic? Different x, y and z axis dimensions found. Exiting')\n",
    "        sys.exit();\n",
    "        \n",
    "    V = x_range*y_range*z_range\n",
    "    n_gal = N_gal/V\n",
    "    norm = np.mean(gal_w**2.)*n_gal**2.*V\n",
    "    print('Norm = %.2f'%norm)\n",
    "else:\n",
    "    norm = 0\n",
    "    with open(gal_par) as infile:\n",
    "        for l,line in enumerate(infile):\n",
    "            this_w = float(line.split()[3])\n",
    "            # Assume FKP weights here\n",
    "            norm+=this_w**2.*(1./this_w-1.)/20000\n",
    "    print(\"Norm = %.2f\"%norm)\n",
    "    \n",
    "## Compute power\n",
    "\n",
    "power = (DD-2.*DR/(DR_pairs/DD_pairs)+RR/(RR_pairs/DD_pairs))/norm\n",
    "\n",
    "# Save to file\n",
    "np.savetxt(outfile,power)\n",
    "print('Saved power spectrum estimate to %s'%outfile)"
   ]
  },
  {
   "cell_type": "code",
   "execution_count": 59,
   "metadata": {},
   "outputs": [],
   "source": [
    "### compute power\n",
    "power = (DD-2.*DR/(DR_pairs/DD_pairs)+RR/(RR_pairs/DD_pairs))/norm"
   ]
  },
  {
   "cell_type": "code",
   "execution_count": null,
   "metadata": {},
   "outputs": [],
   "source": []
  },
  {
   "cell_type": "code",
   "execution_count": null,
   "metadata": {},
   "outputs": [],
   "source": []
  },
  {
   "cell_type": "code",
   "execution_count": null,
   "metadata": {},
   "outputs": [],
   "source": []
  }
 ],
 "metadata": {
  "kernelspec": {
   "display_name": "Python 3",
   "language": "python",
   "name": "python3"
  },
  "language_info": {
   "codemirror_mode": {
    "name": "ipython",
    "version": 3
   },
   "file_extension": ".py",
   "mimetype": "text/x-python",
   "name": "python",
   "nbconvert_exporter": "python",
   "pygments_lexer": "ipython3",
   "version": "3.7.0"
  }
 },
 "nbformat": 4,
 "nbformat_minor": 2
}
