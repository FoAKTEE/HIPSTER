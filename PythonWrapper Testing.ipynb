{
 "cells": [
  {
   "cell_type": "code",
   "execution_count": 6,
   "metadata": {},
   "outputs": [
    {
     "name": "stdout",
     "output_type": "stream",
     "text": [
      "Populating the interactive namespace from numpy and matplotlib\n"
     ]
    }
   ],
   "source": [
    "% pylab inline"
   ]
  },
  {
   "cell_type": "code",
   "execution_count": 60,
   "metadata": {},
   "outputs": [],
   "source": [
    "import numpy as np\n",
    "import sys\n",
    "\n",
    "DD_input = '/mnt/alan1/oliverphilcox/PowerQPM_New/R0_100/DD_mock_0001_power_counts_n19_m3_full.txt'\n",
    "DR_input = '/mnt/alan1/oliverphilcox/PowerQPM_New/R0_100/DR_mock_0001_power_counts_n19_m3_full.txt'\n",
    "RR_input = '/mnt/alan1/oliverphilcox/PowerQPM_New/R0_100/RR_0_power_counts_n19_m3_full.txt'\n",
    "gal_file = '/mnt/alan1/oliverphilcox/QPM_proc/qpm_galaxy_0001.xyzw'\n",
    "N_gal = 642051\n",
    "N_rand_RR = 32292068\n",
    "N_rand_DR = 642051\n",
    "periodic = False\n",
    "outfile = './test_power.txt'"
   ]
  },
  {
   "cell_type": "code",
   "execution_count": 62,
   "metadata": {},
   "outputs": [
    {
     "name": "stdout",
     "output_type": "stream",
     "text": [
      "Computing normalization factor\n",
      "Norm = 4.25\n",
      "Saved power spectrum estimate to ./test_power.txt\n"
     ]
    }
   ],
   "source": [
    "# Load pair counts\n",
    "DD = np.loadtxt(DD_input)\n",
    "DR = np.loadtxt(DR_input)\n",
    "RR = np.loadtxt(RR_input)\n",
    "DR_pairs = N_gal*N_rand_DR\n",
    "DD_pairs = N_gal*(N_gal-1)\n",
    "RR_pairs = N_rand_RR*(N_rand_RR-1.)\n",
    "\n",
    "# Compute normalization factor\n",
    "print('Computing normalization factor')\n",
    "if periodic:\n",
    "    norm = 0.\n",
    "    gal_x,gal_y,gal_z,gal_w = np.loadtxt(gal_file).T\n",
    "    x_range = max(gal_x)-min(gal_x)\n",
    "    y_range = max(gal_y)-min(gal_y)\n",
    "    z_range = max(gal_z)-min(gal_z)\n",
    "    \n",
    "    if np.abs(x_range/y_range-1.)>0.01 or np.abs(x_range/z_range-1.)>0.01:\n",
    "        print('Is this data periodic? Different x, y and z axis dimensions found. Exiting')\n",
    "        sys.exit();\n",
    "        \n",
    "    V = x_range*y_range*z_range\n",
    "    n_gal = N_gal/V\n",
    "    norm = np.mean(gal_w**2.)*n_gal**2.*V\n",
    "    print('Norm = %.2f'%norm)\n",
    "else:\n",
    "    norm = 0\n",
    "    with open(gal_par) as infile:\n",
    "        for l,line in enumerate(infile):\n",
    "            this_w = float(line.split()[3])\n",
    "            # Assume FKP weights here\n",
    "            norm+=this_w**2.*(1./this_w-1.)/20000\n",
    "    print(\"Norm = %.2f\"%norm)\n",
    "    \n",
    "## Compute power\n",
    "\n",
    "power = (DD-2.*DR/(DR_pairs/DD_pairs)+RR/(RR_pairs/DD_pairs))/norm\n",
    "\n",
    "# Save to file\n",
    "np.savetxt(outfile,power)\n",
    "print('Saved power spectrum estimate to %s'%outfile)"
   ]
  },
  {
   "cell_type": "code",
   "execution_count": 59,
   "metadata": {},
   "outputs": [],
   "source": [
    "### compute power\n",
    "power = (DD-2.*DR/(DR_pairs/DD_pairs)+RR/(RR_pairs/DD_pairs))/norm"
   ]
  },
  {
   "cell_type": "code",
   "execution_count": null,
   "metadata": {},
   "outputs": [],
   "source": []
  }
 ],
 "metadata": {
  "kernelspec": {
   "display_name": "Python 3",
   "language": "python",
   "name": "python3"
  },
  "language_info": {
   "codemirror_mode": {
    "name": "ipython",
    "version": 3
   },
   "file_extension": ".py",
   "mimetype": "text/x-python",
   "name": "python",
   "nbconvert_exporter": "python",
   "pygments_lexer": "ipython3",
   "version": "3.7.0"
  }
 },
 "nbformat": 4,
 "nbformat_minor": 2
}
